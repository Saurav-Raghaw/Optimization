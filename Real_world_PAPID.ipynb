{
  "nbformat": 4,
  "nbformat_minor": 0,
  "metadata": {
    "colab": {
      "name": "Real_world_PAPID.ipynb",
      "provenance": [],
      "authorship_tag": "ABX9TyNOG51+9gXLOW7V/Un+gfhW",
      "include_colab_link": true
    },
    "kernelspec": {
      "name": "python3",
      "display_name": "Python 3"
    }
  },
  "cells": [
    {
      "cell_type": "markdown",
      "metadata": {
        "id": "view-in-github",
        "colab_type": "text"
      },
      "source": [
        "<a href=\"https://colab.research.google.com/github/Saurav-Raghaw/Optimization/blob/main/Real_world_PAPID.ipynb\" target=\"_parent\"><img src=\"https://colab.research.google.com/assets/colab-badge.svg\" alt=\"Open In Colab\"/></a>"
      ]
    },
    {
      "cell_type": "markdown",
      "metadata": {
        "id": "iDDOR7dQ9LrR"
      },
      "source": [
        "#Comparison between PID, APID and PAPID and others optimizers"
      ]
    },
    {
      "cell_type": "code",
      "metadata": {
        "id": "tfmfuT759CF_"
      },
      "source": [
        "import numpy as np\r\n",
        "import pandas as pd\r\n",
        "import matplotlib.pyplot as plt\r\n",
        "from sklearn.metrics import mean_squared_error\r\n",
        "\r\n",
        "import operator \r\n",
        "import math"
      ],
      "execution_count": 1,
      "outputs": []
    },
    {
      "cell_type": "code",
      "metadata": {
        "id": "yw09nv4h9ZVU"
      },
      "source": [
        "df = pd.read_csv('/content/hour.csv')"
      ],
      "execution_count": 2,
      "outputs": []
    },
    {
      "cell_type": "code",
      "metadata": {
        "id": "qZba79ZN9qoe"
      },
      "source": [
        "df_new = df[df.cnt < 500]"
      ],
      "execution_count": 3,
      "outputs": []
    },
    {
      "cell_type": "code",
      "metadata": {
        "id": "zVITVvcP9tQ6"
      },
      "source": [
        "def scale(x):\r\n",
        "    min = x.min()\r\n",
        "    max = x.max()\r\n",
        "    return pd.Series([(i - min)/(max - min) for i in x])"
      ],
      "execution_count": 4,
      "outputs": []
    },
    {
      "cell_type": "code",
      "metadata": {
        "id": "9BCc2Old9ukC"
      },
      "source": [
        "x = df_new['temp']\r\n",
        "y = scale(df_new.cnt)"
      ],
      "execution_count": 5,
      "outputs": []
    },
    {
      "cell_type": "code",
      "metadata": {
        "id": "xPIzDJuoGLYb"
      },
      "source": [
        "def plot_regression(X, y, y_pred, log=None, title=\"Linear Regression\"):\r\n",
        "    \r\n",
        "    plt.figure(figsize=(20,6))\r\n",
        "    plt.rcParams['figure.dpi'] = 227\r\n",
        "    plt.scatter(X, y, label='Data', c='#388fd8', s=6)\r\n",
        "    if log != None:\r\n",
        "        for i in range(len(log)):\r\n",
        "            plt.plot(X, log[i][0]*X + log[i][1], lw=1, c='#caa727', alpha=0.35)\r\n",
        "    plt.plot(X, y_pred, c='#ff7702', lw=3, label='Regression')\r\n",
        "    plt.title(title, fontSize=14)\r\n",
        "    plt.xlabel('temp', fontSize=11)\r\n",
        "    plt.ylabel('cnt', fontSize=11)\r\n",
        "    plt.legend(frameon=True, loc=1, fontsize=10, borderpad=.6)\r\n",
        "    plt.tick_params(direction='out', length=6, color='#a0a0a0', width=1, grid_alpha=.6)\r\n",
        "    plt.show()"
      ],
      "execution_count": 6,
      "outputs": []
    },
    {
      "cell_type": "markdown",
      "metadata": {
        "id": "3nV9g66R-aDE"
      },
      "source": [
        "#PID"
      ]
    },
    {
      "cell_type": "code",
      "metadata": {
        "id": "TK9zOd8B-NmX"
      },
      "source": [
        "def PID_Otimizer(X, y, lr=0.01, epoch=10, Kd=0.9):\r\n",
        "\r\n",
        "  mome_para = 0.9 # momentum factor\r\n",
        "  #Kd = 0.25*lr + 0.5 + (1 + (16/5)* (3.14)**2) / lr #Calculating the hyperparameter Kd\r\n",
        "\r\n",
        "  m, b = 0.5, 0.5 # parameters\r\n",
        "  log, mse = [], [] # lists to store learning process\r\n",
        "  N = len(X) # number of samples\r\n",
        "\r\n",
        "  vm, dt_m, vb, dt_b = 0,0,0,0 \r\n",
        "  grad_m, grad_b, prev_grad_m,prev_grad_b= 0,0,0,0\r\n",
        "\r\n",
        "\r\n",
        "  prev_update_b = 0\r\n",
        "  prev_update_m = 0\r\n",
        "  prev_update_dt_m = 0\r\n",
        "  prev_update_dt_b = 0\r\n",
        "    \r\n",
        "  for _ in range(epoch):\r\n",
        "    f = y - (m*X + b)\r\n",
        "\r\n",
        "    # Updating m and b\r\n",
        "    grad_m = (-2 * (X*f).sum() / N)\r\n",
        "    grad_b = (-2 * f.sum() / N)\r\n",
        "\r\n",
        "    vm = mome_para*prev_update_m + lr * grad_m\r\n",
        "    dt_m = mome_para*prev_update_dt_m + (1 - mome_para) * (grad_m - prev_grad_m)\r\n",
        "\r\n",
        "    vb = mome_para*prev_update_b + lr * grad_b\r\n",
        "    dt_b = mome_para*prev_update_dt_b + (1 - mome_para)* (grad_b - prev_grad_b)\r\n",
        "\r\n",
        "    prev_grad_m = grad_m\r\n",
        "    prev_gard_b = grad_b\r\n",
        "\r\n",
        "    m = m - vm - Kd*dt_m\r\n",
        "    b = b - vb - Kd*dt_b\r\n",
        "\r\n",
        "    prev_update_m = vm\r\n",
        "    prev_update_dt_m = dt_m\r\n",
        "\r\n",
        "    prev_update_b = vb\r\n",
        "    prev_update_dt_b = dt_b\r\n",
        "        \r\n",
        "    log.append((m, b))\r\n",
        "    mse.append(mean_squared_error(y, (m*X + b)))  \r\n",
        "\r\n",
        "  return m, b, log, mse\r\n",
        " "
      ],
      "execution_count": 7,
      "outputs": []
    },
    {
      "cell_type": "markdown",
      "metadata": {
        "id": "e50tscWo-txx"
      },
      "source": [
        "#APID"
      ]
    },
    {
      "cell_type": "code",
      "metadata": {
        "id": "d1EFqU_S-sfx"
      },
      "source": [
        "def APID(X, y, lr=0.05, epoch=10, Kd=0.9):\r\n",
        "\r\n",
        "  #Kd = 0.25*lr + 0.5 + (1 + (16/5)* (3.14)**2) / lr #Calculating the hyperparameter Kd\r\n",
        "\r\n",
        "  m, b = 0.5, 0.5 # parameters\r\n",
        "  log, mse = [], [] # lists to store learning process\r\n",
        "  N = len(X) # number of samples\r\n",
        "  eps = 1e-8\r\n",
        "  gamma = 0.9\r\n",
        "\r\n",
        "  vt_m, dt_m, prev_vt_m, prev_dt_m, mt_m, prev_mt_m = 0,0,0,0,0,0\r\n",
        "  vt_b, dt_b, prev_vt_b, prev_dt_b, mt_b, prev_mt_b = 0,0,0,0,0,0\r\n",
        "  grad_m, grad_b, prev_grad_m, prev_grad_b= 0,0,0,0\r\n",
        "\r\n",
        "\r\n",
        "  prev_b = 0\r\n",
        "  prev_m = 0\r\n",
        "    \r\n",
        "  for _ in range(epoch):\r\n",
        "    f = y - (m*X + b)\r\n",
        "\r\n",
        "    grad_m = (-2 * (X*f).sum() / N)\r\n",
        "    grad_b = (-2 * f.sum() / N)\r\n",
        "\r\n",
        "    mt_m = prev_mt_m + (grad_m**2)\r\n",
        "    vt_m = gamma*prev_vt_m + (lr*grad_m)/np.sqrt(mt_m + eps)\r\n",
        "    dt_m = gamma*prev_dt_m + (1-gamma)*(grad_m - prev_grad_m)\r\n",
        "\r\n",
        "    prev_mt_m = mt_m\r\n",
        "    prev_vt_m = vt_m\r\n",
        "    prev_dt_m = dt_m\r\n",
        "\r\n",
        "    mt_b = prev_mt_b + (grad_b**2)\r\n",
        "    vt_b = gamma*prev_vt_b + (lr*grad_b)/np.sqrt(mt_b + eps)\r\n",
        "    dt_b = gamma*prev_dt_b + (1-gamma)*(grad_b - prev_grad_b)\r\n",
        "\r\n",
        "    prev_mt_b = mt_b\r\n",
        "    prev_vt_b = vt_b\r\n",
        "    prev_dt_b = dt_b\r\n",
        "\r\n",
        "    prev_grad_m = grad_m\r\n",
        "    prev_gard_b = grad_b\r\n",
        "\r\n",
        "    prev_m = m\r\n",
        "    prev_b = b\r\n",
        "\r\n",
        "    m = m - vt_m - Kd*dt_m\r\n",
        "    b = b - vt_b - Kd*dt_b\r\n",
        "        \r\n",
        "    log.append((m, b))\r\n",
        "    mse.append(mean_squared_error(y, (m*X + b)))  \r\n",
        "\r\n",
        "  return m, b, log, mse"
      ],
      "execution_count": 8,
      "outputs": []
    },
    {
      "cell_type": "markdown",
      "metadata": {
        "id": "owKX_hXj_WVc"
      },
      "source": [
        "#PAPID"
      ]
    },
    {
      "cell_type": "code",
      "metadata": {
        "id": "fNxB8TL6_Vy0"
      },
      "source": [
        "def PAPID(X, y, lr=0.05, epoch=10, Kd=0.9, p=1/4):\r\n",
        "\r\n",
        "  #Kd = 0.25*lr + 0.5 + (1 + (16/5)* (3.14)**2) / lr #Calculating the hyperparameter Kd\r\n",
        "\r\n",
        "  m, b = 0.5, 0.5 # parameters\r\n",
        "  log, mse = [], [] # lists to store learning process\r\n",
        "  N = len(X) # number of samples\r\n",
        "  eps = 1e-8\r\n",
        "  gamma = 0.9\r\n",
        "\r\n",
        "  vt_m, dt_m, prev_vt_m, prev_dt_m, mt_m, prev_mt_m = 0,0,0,0,0,0\r\n",
        "  vt_b, dt_b, prev_vt_b, prev_dt_b, mt_b, prev_mt_b = 0,0,0,0,0,0\r\n",
        "  grad_m, grad_b, prev_grad_m, prev_grad_b= 0,0,0,0\r\n",
        "\r\n",
        "\r\n",
        "  prev_b = 0\r\n",
        "  prev_m = 0\r\n",
        "    \r\n",
        "  for _ in range(epoch):\r\n",
        "    f = y - (m*X + b)\r\n",
        "\r\n",
        "    grad_m = (-2 * (X*f).sum() / N)\r\n",
        "    grad_b = (-2 * f.sum() / N)\r\n",
        "\r\n",
        "    mt_m = prev_mt_m + (grad_m**2)\r\n",
        "    vt_m = gamma*prev_vt_m + (lr*grad_m)/(mt_m + eps)**p\r\n",
        "    dt_m = gamma*prev_dt_m + (1-gamma)*(grad_m - prev_grad_m)\r\n",
        "\r\n",
        "    prev_mt_m = mt_m\r\n",
        "    prev_vt_m = vt_m\r\n",
        "    prev_dt_m = dt_m\r\n",
        "\r\n",
        "    mt_b = prev_mt_b + (grad_b**2)\r\n",
        "    vt_b = gamma*prev_vt_b + (lr*grad_b)/(mt_b + eps)**p\r\n",
        "    dt_b = gamma*prev_dt_b + (1-gamma)*(grad_b - prev_grad_b)\r\n",
        "\r\n",
        "    prev_mt_b = mt_b\r\n",
        "    prev_vt_b = vt_b\r\n",
        "    prev_dt_b = dt_b\r\n",
        "\r\n",
        "    prev_grad_m = grad_m\r\n",
        "    prev_gard_b = grad_b\r\n",
        "\r\n",
        "    prev_m = m\r\n",
        "    prev_b = b\r\n",
        "\r\n",
        "    m = m - vt_m - Kd*dt_m\r\n",
        "    b = b - vt_b - Kd*dt_b\r\n",
        "        \r\n",
        "    log.append((m, b))\r\n",
        "    mse.append(mean_squared_error(y, (m*X + b)))  \r\n",
        "\r\n",
        "  return m, b, log, mse"
      ],
      "execution_count": 9,
      "outputs": []
    },
    {
      "cell_type": "code",
      "metadata": {
        "id": "xA1Bcmv_EA3D"
      },
      "source": [
        "def Adagrad(X, y, lr=0.05, epoch=10):\r\n",
        "    \r\n",
        "    m, b = 0.5, 0.5 # parameters\r\n",
        "    log, mse = [], [] # lists to store learning process\r\n",
        "    N = len(X) # number of samples\r\n",
        " \r\n",
        "    vm,vb =0,0\r\n",
        "\r\n",
        "    eps = 1e-8\r\n",
        "\r\n",
        "    for i in range(epoch):\r\n",
        "      dm, db =0,0\r\n",
        "\r\n",
        "      f = y - (m*X + b)\r\n",
        "      dm += lr * (-2 * (X*f).sum() / N)\r\n",
        "      db +=  lr * (-2 * f.sum() / N)\r\n",
        "\r\n",
        "     \r\n",
        "      vm = vm + dm**2\r\n",
        "      vb = vb + db**2\r\n",
        "\r\n",
        "      #m = m - (lr/(vm + eps)) * dm\r\n",
        "      #b = b - (lr/(vb + eps)) * db\r\n",
        "\r\n",
        "      m = m - (lr/np.sqrt(vm + eps)) * dm\r\n",
        "      b = b - (lr/np.sqrt(vb + eps)) * db\r\n",
        "\r\n",
        "      log.append((m, b))\r\n",
        "      mse.append(mean_squared_error(y, (m*X + b)))   \r\n",
        "\r\n",
        "    return m, b, log, mse"
      ],
      "execution_count": 10,
      "outputs": []
    },
    {
      "cell_type": "markdown",
      "metadata": {
        "id": "Mp5EPk8I6yVj"
      },
      "source": [
        "#Mini-Batch PAPID"
      ]
    },
    {
      "cell_type": "code",
      "metadata": {
        "id": "IjCbcB2_67X_"
      },
      "source": [
        "def Mini_PAPID(X, y, lr=0.05, epoch=10, Kd=0.9, p=1/4, batch_size=1):\r\n",
        "\r\n",
        "  #Kd = 0.25*lr + 0.5 + (1 + (16/5)* (3.14)**2) / lr #Calculating the hyperparameter Kd\r\n",
        "\r\n",
        "  m, b = 0.5, 0.5 # parameters\r\n",
        "  log, mse = [], [] # lists to store learning process\r\n",
        "  N = len(X) # number of samples\r\n",
        "  eps = 1e-8\r\n",
        "  gamma = 0.9\r\n",
        "\r\n",
        "  vt_m, dt_m, prev_vt_m, prev_dt_m, mt_m, prev_mt_m = 0,0,0,0,0,0\r\n",
        "  vt_b, dt_b, prev_vt_b, prev_dt_b, mt_b, prev_mt_b = 0,0,0,0,0,0\r\n",
        "  grad_m, grad_b, prev_grad_m, prev_grad_b= 0,0,0,0\r\n",
        "\r\n",
        "\r\n",
        "  prev_b = 0\r\n",
        "  prev_m = 0\r\n",
        "    \r\n",
        "  for _ in range(epoch):\r\n",
        "\r\n",
        "    indexes = np.random.randint(0, len(X), batch_size) # random sample\r\n",
        "        \r\n",
        "    Xs = np.take(X, indexes)\r\n",
        "    ys = np.take(y, indexes)\r\n",
        "    N = len(Xs)\r\n",
        "\r\n",
        "\r\n",
        "\r\n",
        "    f = ys - (m*Xs + b)\r\n",
        "\r\n",
        "    grad_m = (-2 * (Xs*f).sum() / N)\r\n",
        "    grad_b = (-2 * f.sum() / N)\r\n",
        "\r\n",
        "    mt_m = prev_mt_m + (grad_m**2)\r\n",
        "    vt_m = gamma*prev_vt_m + (lr*grad_m)/(mt_m + eps)**p\r\n",
        "    dt_m = gamma*prev_dt_m + (1-gamma)*(grad_m - prev_grad_m)\r\n",
        "\r\n",
        "    prev_mt_m = mt_m\r\n",
        "    prev_vt_m = vt_m\r\n",
        "    prev_dt_m = dt_m\r\n",
        "\r\n",
        "    mt_b = prev_mt_b + (grad_b**2)\r\n",
        "    vt_b = gamma*prev_vt_b + (lr*grad_b)/(mt_b + eps)**p\r\n",
        "    dt_b = gamma*prev_dt_b + (1-gamma)*(grad_b - prev_grad_b)\r\n",
        "\r\n",
        "    prev_mt_b = mt_b\r\n",
        "    prev_vt_b = vt_b\r\n",
        "    prev_dt_b = dt_b\r\n",
        "\r\n",
        "    prev_grad_m = grad_m\r\n",
        "    prev_gard_b = grad_b\r\n",
        "\r\n",
        "    prev_m = m\r\n",
        "    prev_b = b\r\n",
        "\r\n",
        "    m = m - vt_m - Kd*dt_m\r\n",
        "    b = b - vt_b - Kd*dt_b\r\n",
        "        \r\n",
        "    log.append((m, b))\r\n",
        "    mse.append(mean_squared_error(y, (m*X + b)))  \r\n",
        "\r\n",
        "  return m, b, log, mse"
      ],
      "execution_count": 11,
      "outputs": []
    },
    {
      "cell_type": "code",
      "metadata": {
        "colab": {
          "base_uri": "https://localhost:8080/"
        },
        "id": "yur3J5KV-eMh",
        "outputId": "a436876f-459e-437e-edee-3f1a67ce9beb"
      },
      "source": [
        "%%time\r\n",
        "m, b, log, mse_pid = PID_Otimizer(x, y, 0.01, 500, 10)"
      ],
      "execution_count": 12,
      "outputs": [
        {
          "output_type": "stream",
          "text": [
            "CPU times: user 2.29 s, sys: 125 ms, total: 2.41 s\n",
            "Wall time: 2.47 s\n"
          ],
          "name": "stdout"
        }
      ]
    },
    {
      "cell_type": "code",
      "metadata": {
        "colab": {
          "base_uri": "https://localhost:8080/"
        },
        "id": "chSUoVjMAsR2",
        "outputId": "7f838127-a042-4d4b-be1b-666291869f34"
      },
      "source": [
        "y_pred = m*x + b\r\n",
        "print(\"MSE:\",mean_squared_error(y, y_pred))"
      ],
      "execution_count": 13,
      "outputs": [
        {
          "output_type": "stream",
          "text": [
            "MSE: 0.06064215615123751\n"
          ],
          "name": "stdout"
        }
      ]
    },
    {
      "cell_type": "code",
      "metadata": {
        "colab": {
          "base_uri": "https://localhost:8080/"
        },
        "id": "_E9Va637Ax8p",
        "outputId": "82a7c5e8-f8d9-44c6-8cd5-75e2dce603a7"
      },
      "source": [
        "%%time\r\n",
        "m, b, log, mse_apid = APID(x, y, 0.01, 500, 10)"
      ],
      "execution_count": 14,
      "outputs": [
        {
          "output_type": "stream",
          "text": [
            "CPU times: user 2.45 s, sys: 151 ms, total: 2.6 s\n",
            "Wall time: 2.69 s\n"
          ],
          "name": "stdout"
        }
      ]
    },
    {
      "cell_type": "code",
      "metadata": {
        "colab": {
          "base_uri": "https://localhost:8080/"
        },
        "id": "FyDmVhazAz4R",
        "outputId": "76601527-c78f-4cb7-ac0f-6d53437c6eac"
      },
      "source": [
        "y_pred = m*x + b\r\n",
        "print(\"MSE:\",mean_squared_error(y, y_pred))"
      ],
      "execution_count": 15,
      "outputs": [
        {
          "output_type": "stream",
          "text": [
            "MSE: 0.06073620616684345\n"
          ],
          "name": "stdout"
        }
      ]
    },
    {
      "cell_type": "code",
      "metadata": {
        "colab": {
          "base_uri": "https://localhost:8080/"
        },
        "id": "B_DaMyJUEEVO",
        "outputId": "1c729bbb-a9bf-4fef-e4ea-184b2e48cb4b"
      },
      "source": [
        "%%time\r\n",
        "m, b, log, mse_ada = Adagrad(x, y, 0.01, 500)"
      ],
      "execution_count": 16,
      "outputs": [
        {
          "output_type": "stream",
          "text": [
            "CPU times: user 2.54 s, sys: 150 ms, total: 2.69 s\n",
            "Wall time: 2.8 s\n"
          ],
          "name": "stdout"
        }
      ]
    },
    {
      "cell_type": "code",
      "metadata": {
        "colab": {
          "base_uri": "https://localhost:8080/"
        },
        "id": "yItNtG2zEHWS",
        "outputId": "6657cdc3-d74c-4ca1-b5b6-0c02af1f3180"
      },
      "source": [
        "y_pred = m*x + b\r\n",
        "print(\"MSE:\",mean_squared_error(y, y_pred))"
      ],
      "execution_count": 17,
      "outputs": [
        {
          "output_type": "stream",
          "text": [
            "MSE: 0.06375606883123254\n"
          ],
          "name": "stdout"
        }
      ]
    },
    {
      "cell_type": "code",
      "metadata": {
        "colab": {
          "base_uri": "https://localhost:8080/"
        },
        "id": "KrIIS_WF_vYp",
        "outputId": "3d82c676-fb8f-4e1c-cbc4-9f2687460365"
      },
      "source": [
        "%%time\r\n",
        "m, b, log, mse_papid = PAPID(x, y, 0.01, 1000, 10, 1/2)"
      ],
      "execution_count": 102,
      "outputs": [
        {
          "output_type": "stream",
          "text": [
            "CPU times: user 4.29 s, sys: 227 ms, total: 4.52 s\n",
            "Wall time: 4.57 s\n"
          ],
          "name": "stdout"
        }
      ]
    },
    {
      "cell_type": "code",
      "metadata": {
        "colab": {
          "base_uri": "https://localhost:8080/"
        },
        "id": "tJIb3CKo_z70",
        "outputId": "00a06d2f-b46c-49e9-fa4a-d76f72ea4ea8"
      },
      "source": [
        "y_pred = m*x + b\r\n",
        "print(\"MSE:\",mean_squared_error(y, y_pred))"
      ],
      "execution_count": 103,
      "outputs": [
        {
          "output_type": "stream",
          "text": [
            "MSE: 0.060791039927610015\n"
          ],
          "name": "stdout"
        }
      ]
    },
    {
      "cell_type": "code",
      "metadata": {
        "colab": {
          "base_uri": "https://localhost:8080/"
        },
        "id": "6v9J2qSi7rbe",
        "outputId": "48287739-f981-4289-9075-baf6c4d97211"
      },
      "source": [
        "%%time\r\n",
        "m, b, log, mse_mini_papid = Mini_PAPID(x, y, 0.01, 1000, 10, 1/2, 500)"
      ],
      "execution_count": 104,
      "outputs": [
        {
          "output_type": "stream",
          "text": [
            "CPU times: user 5.23 s, sys: 91 ms, total: 5.32 s\n",
            "Wall time: 5.36 s\n"
          ],
          "name": "stdout"
        }
      ]
    },
    {
      "cell_type": "code",
      "metadata": {
        "colab": {
          "base_uri": "https://localhost:8080/"
        },
        "id": "D0p6Mno-71Oo",
        "outputId": "71f2ecc0-6ece-4ea8-92fc-9e971a01649b"
      },
      "source": [
        "y_pred = m*x + b\r\n",
        "print(\"MSE:\",mean_squared_error(y, y_pred))"
      ],
      "execution_count": 105,
      "outputs": [
        {
          "output_type": "stream",
          "text": [
            "MSE: 0.06287360683228761\n"
          ],
          "name": "stdout"
        }
      ]
    },
    {
      "cell_type": "code",
      "metadata": {
        "colab": {
          "base_uri": "https://localhost:8080/",
          "height": 783
        },
        "id": "Y9I4Ku-G-5xj",
        "outputId": "2f983de2-9e16-4420-8c2c-4d9dd7d146f5"
      },
      "source": [
        "plt.figure(figsize=(10,5))\r\n",
        "plt.rcParams['figure.dpi'] = 227\r\n",
        "#plt.plot(range(len(mse_pid)), mse_pid, label='PID')\r\n",
        "#plt.plot(range(len(mse_apid)), mse_apid, label='APID')\r\n",
        "plt.plot(range(len(mse_papid)), mse_papid, label='PAPID')\r\n",
        "#plt.plot(range(len(mse_ada)), mse_ada, label='Adagrad')\r\n",
        "plt.plot(range(len(mse_mini_papid)), mse_mini_papid, label='mini_papid BS=500')\r\n",
        "\r\n",
        "\r\n",
        "\r\n",
        "\r\n",
        "\r\n",
        "\r\n",
        "\r\n",
        "plt.title('#PAPID Vs #Mini_Batch Optimization', fontSize=14)\r\n",
        "plt.xlabel('#Epochs')\r\n",
        "plt.ylabel('MSE')\r\n",
        "plt.legend()\r\n",
        "plt.show()"
      ],
      "execution_count": 106,
      "outputs": [
        {
          "output_type": "display_data",
          "data": {
            "image/png": "[encoded data removed]",
            "text/plain": [
              "<Figure size 2270x1135 with 1 Axes>"
            ]
          },
          "metadata": {
            "tags": [],
            "needs_background": "light"
          }
        }
      ]
    },
    {
      "cell_type": "markdown",
      "metadata": {
        "id": "9p0KkPvxEfaZ"
      },
      "source": [
        "#speed test"
      ]
    },
    {
      "cell_type": "code",
      "metadata": {
        "id": "OoLoSOGGEjvR"
      },
      "source": [
        "X1=x\r\n",
        "X1 = np.concatenate((X1,X1,X1,X1,X1,X1,X1,X1,X1,X1,X1,X1,X1,X1,X1,X1,X1))\r\n",
        "y1 = np.concatenate((y,y,y,y,y,y,y,y,y,y,y,y,y,y,y,y,y))"
      ],
      "execution_count": 23,
      "outputs": []
    },
    {
      "cell_type": "code",
      "metadata": {
        "colab": {
          "base_uri": "https://localhost:8080/"
        },
        "id": "SaZvnZBCe1ND",
        "outputId": "6a1e8d12-c4e4-4e41-ede3-c005a11d2ef8"
      },
      "source": [
        "%%timeit\r\n",
        "PID_Otimizer(X1, y1, 0.01, 500, 10)"
      ],
      "execution_count": 24,
      "outputs": [
        {
          "output_type": "stream",
          "text": [
            "1 loop, best of 5: 2.5 s per loop\n"
          ],
          "name": "stdout"
        }
      ]
    },
    {
      "cell_type": "code",
      "metadata": {
        "colab": {
          "base_uri": "https://localhost:8080/"
        },
        "id": "qdnjLGiafDLk",
        "outputId": "39186298-a955-43fd-fe6f-5603dd8ce641"
      },
      "source": [
        "%%timeit\r\n",
        "APID(X1, y1, 0.01, 500, 10)"
      ],
      "execution_count": 25,
      "outputs": [
        {
          "output_type": "stream",
          "text": [
            "1 loop, best of 5: 2.57 s per loop\n"
          ],
          "name": "stdout"
        }
      ]
    },
    {
      "cell_type": "code",
      "metadata": {
        "colab": {
          "base_uri": "https://localhost:8080/"
        },
        "id": "-WKttotefnFM",
        "outputId": "7df1a136-3d74-4cdc-e62f-d24f9dd90a65"
      },
      "source": [
        "%%timeit\r\n",
        "Adagrad(X1, y1, 0.01, 500)"
      ],
      "execution_count": 26,
      "outputs": [
        {
          "output_type": "stream",
          "text": [
            "1 loop, best of 5: 2.44 s per loop\n"
          ],
          "name": "stdout"
        }
      ]
    },
    {
      "cell_type": "code",
      "metadata": {
        "colab": {
          "base_uri": "https://localhost:8080/"
        },
        "id": "6mRctLCRfTRe",
        "outputId": "91dbab31-d0ba-4bce-c05d-03f60f2be35c"
      },
      "source": [
        "%%timeit\r\n",
        "PAPID(X1, y1, 0.01, 500, 10, 1/16)"
      ],
      "execution_count": 63,
      "outputs": [
        {
          "output_type": "stream",
          "text": [
            "1 loop, best of 5: 2.22 s per loop\n"
          ],
          "name": "stdout"
        }
      ]
    },
    {
      "cell_type": "code",
      "metadata": {
        "colab": {
          "base_uri": "https://localhost:8080/"
        },
        "id": "eyvUR1IK_NKA",
        "outputId": "a5d69540-b51e-4953-89ce-68c568e26efb"
      },
      "source": [
        "%%timeit\r\n",
        "Mini_PAPID(X1, y1, 0.01, 500, 10, 1/16, 100)"
      ],
      "execution_count": 71,
      "outputs": [
        {
          "output_type": "stream",
          "text": [
            "1 loop, best of 5: 1.09 s per loop\n"
          ],
          "name": "stdout"
        }
      ]
    }
  ]
}