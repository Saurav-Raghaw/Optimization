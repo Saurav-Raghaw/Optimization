{
  "nbformat": 4,
  "nbformat_minor": 0,
  "metadata": {
    "colab": {
      "name": "Adam_Yogi.ipynb",
      "provenance": [],
      "authorship_tag": "ABX9TyNHTetb2f6ubz7TNqzW4dG9",
      "include_colab_link": true
    },
    "kernelspec": {
      "name": "python3",
      "display_name": "Python 3"
    }
  },
  "cells": [
    {
      "cell_type": "markdown",
      "metadata": {
        "id": "view-in-github",
        "colab_type": "text"
      },
      "source": [
        "<a href=\"https://colab.research.google.com/github/Saurav-Raghaw/Optimization/blob/main/Adam_Yogi.ipynb\" target=\"_parent\"><img src=\"https://colab.research.google.com/assets/colab-badge.svg\" alt=\"Open In Colab\"/></a>"
      ]
    },
    {
      "cell_type": "code",
      "metadata": {
        "id": "RASVPTzgUHbe"
      },
      "source": [
        "import numpy as np\r\n",
        "import pandas as pd\r\n",
        "import matplotlib.pyplot as plt\r\n",
        "from sklearn.metrics import mean_squared_error\r\n",
        "\r\n",
        "import operator \r\n",
        "import math"
      ],
      "execution_count": 308,
      "outputs": []
    },
    {
      "cell_type": "code",
      "metadata": {
        "id": "cWOV7d1g07Vc"
      },
      "source": [
        "df = pd.read_csv('/content/hour.csv')"
      ],
      "execution_count": 309,
      "outputs": []
    },
    {
      "cell_type": "code",
      "metadata": {
        "id": "XZjEvG6k16DR"
      },
      "source": [
        "df_new = df[df.cnt < 500]"
      ],
      "execution_count": 310,
      "outputs": []
    },
    {
      "cell_type": "code",
      "metadata": {
        "id": "iMdLI1EH19Mq"
      },
      "source": [
        "def scale(x):\r\n",
        "    min = x.min()\r\n",
        "    max = x.max()\r\n",
        "    return pd.Series([(i - min)/(max - min) for i in x])"
      ],
      "execution_count": 311,
      "outputs": []
    },
    {
      "cell_type": "code",
      "metadata": {
        "id": "9cneT0lr1_lq"
      },
      "source": [
        "x = df_new['temp']\r\n",
        "y = scale(df_new.cnt)"
      ],
      "execution_count": 312,
      "outputs": []
    },
    {
      "cell_type": "markdown",
      "metadata": {
        "id": "mot0kQfK2_VH"
      },
      "source": [
        "#Adam"
      ]
    },
    {
      "cell_type": "code",
      "metadata": {
        "id": "Rs2MeU0r2ZSa"
      },
      "source": [
        "def Adam(X, y, lr=0.05, epoch=10, eps = 1e-8):\r\n",
        "    \r\n",
        "    m, b = 0.5, 0.5 # parameters\r\n",
        "    log, mse = [], [] # lists to store learning process\r\n",
        "    N = len(X) # number of samples\r\n",
        " \r\n",
        "    vm,vb =0,0\r\n",
        "\r\n",
        "    \r\n",
        "    beta1, beta2 = 0.9, 0.999\r\n",
        "    mmt,mvt,bmt, bvt=0,0,0,0\r\n",
        "    mmt_hat, mvt_hat, bmt_hat, bvt_hat = 0,0,0,0\r\n",
        "\r\n",
        "    for i in range(epoch):\r\n",
        "      dm, db =0,0\r\n",
        "\r\n",
        "      f = y - (m*X + b)\r\n",
        "      dm += lr * (-2 * (X*f).sum() / N)\r\n",
        "      db +=  lr * (-2 * f.sum() / N)\r\n",
        "\r\n",
        "      mmt = beta1*mmt + (1 - beta1) * dm\r\n",
        "      mvt = beta2*mvt + (1 - beta2) * (dm**2)\r\n",
        "\r\n",
        "      bmt = beta1*bmt + (1 - beta1) * db\r\n",
        "      bvt = beta2*bvt + (1 - beta2) * (db**2)\r\n",
        "\r\n",
        "      mmt_hat = mmt/(1- beta1**(i+1))\r\n",
        "      mvt_hat = mvt/(1- beta2**(i+1))\r\n",
        "\r\n",
        "      bmt_hat = bmt/(1- beta1**(i+1))\r\n",
        "      bvt_hat = bvt/(1-beta2**(i+1))\r\n",
        "\r\n",
        "      m = m - (lr*mmt_hat)/(np.sqrt(mvt_hat) + eps)\r\n",
        "      b = b - (lr*bmt_hat)/(np.sqrt(bvt_hat) + eps)\r\n",
        "\r\n",
        "      log.append((m, b))\r\n",
        "      mse.append(mean_squared_error(y, (m*X + b)))   \r\n",
        "\r\n",
        "    return m, b, log, mse"
      ],
      "execution_count": 313,
      "outputs": []
    },
    {
      "cell_type": "markdown",
      "metadata": {
        "id": "pqYe4XKN6xiG"
      },
      "source": [
        "#YOGI"
      ]
    },
    {
      "cell_type": "code",
      "metadata": {
        "id": "NFGp17bp6s6O"
      },
      "source": [
        "def Yogi(X, y, lr=0.05, epoch=10, eps = 1e-3):\r\n",
        "    \r\n",
        "    m, b = 0.5, 0.5 # parameters\r\n",
        "    log, mse = [], [] # lists to store learning process\r\n",
        "    N = len(X) # number of samples\r\n",
        " \r\n",
        "    vm,vb =0,0\r\n",
        "\r\n",
        "    \r\n",
        "    beta1, beta2 = 0.9, 0.999\r\n",
        "    mmt,mvt,bmt, bvt=0,0,0,0\r\n",
        "    mmt_hat, mvt_hat, bmt_hat, bvt_hat = 0,0,0,0\r\n",
        "\r\n",
        "    for i in range(epoch):\r\n",
        "      dm, db =0,0\r\n",
        "\r\n",
        "      f = y - (m*X + b)\r\n",
        "      dm += lr * (-2 * (X*f).sum() / N)\r\n",
        "      db +=  lr * (-2 * f.sum() / N)\r\n",
        "\r\n",
        "      mmt = beta1*mmt + (1 - beta1) * dm\r\n",
        "      mvt = beta2*mvt + (1 - beta2) * np.sign(int(mvt - dm**2))* (dm**2)\r\n",
        "\r\n",
        "      bmt = beta1*bmt + (1 - beta1) * db\r\n",
        "      bvt = beta2*bvt + (1 - beta2) * np.sign(int(bvt - db**2)) * (db**2)\r\n",
        "\r\n",
        "      mmt_hat = mmt/(1- beta1**(i+1))\r\n",
        "      mvt_hat = mvt/(1- beta2**(i+1))\r\n",
        "\r\n",
        "      bmt_hat = bmt/(1- beta1**(i+1))\r\n",
        "      bvt_hat = bvt/(1-beta2**(i+1))\r\n",
        "\r\n",
        "      m = m - (lr*mmt_hat)/(np.sqrt(mvt_hat) + eps)\r\n",
        "      b = b - (lr*bmt_hat)/(np.sqrt(bvt_hat) + eps)\r\n",
        "\r\n",
        "      log.append((m, b))\r\n",
        "      mse.append(mean_squared_error(y, (m*X + b)))   \r\n",
        "\r\n",
        "    return m, b, log, mse\r\n",
        "    "
      ],
      "execution_count": 314,
      "outputs": []
    },
    {
      "cell_type": "markdown",
      "metadata": {
        "id": "8Ju9YPtpEXcx"
      },
      "source": [
        "#PID"
      ]
    },
    {
      "cell_type": "code",
      "metadata": {
        "id": "JPHUCc1cEYgE"
      },
      "source": [
        "def PID_Otimizer(X, y, lr=0.01, epoch=10, Kd=0.9):\r\n",
        "\r\n",
        "  mome_para = 0.9 # momentum factor\r\n",
        "  #Kd = 0.25*lr + 0.5 + (1 + (16/5)* (3.14)**2) / lr #Calculating the hyperparameter Kd\r\n",
        "\r\n",
        "  m, b = 0.5, 0.5 # parameters\r\n",
        "  log, mse = [], [] # lists to store learning process\r\n",
        "  N = len(X) # number of samples\r\n",
        "\r\n",
        "  vm, dt_m, vb, dt_b = 0,0,0,0 \r\n",
        "  grad_m, grad_b, prev_grad_m,prev_grad_b= 0,0,0,0\r\n",
        "\r\n",
        "\r\n",
        "  prev_update_b = 0\r\n",
        "  prev_update_m = 0\r\n",
        "  prev_update_dt_m = 0\r\n",
        "  prev_update_dt_b = 0\r\n",
        "    \r\n",
        "  for _ in range(epoch):\r\n",
        "    f = y - (m*X + b)\r\n",
        "\r\n",
        "    # Updating m and b\r\n",
        "    grad_m = (-2 * (X*f).sum() / N)\r\n",
        "    grad_b = (-2 * f.sum() / N)\r\n",
        "\r\n",
        "    vm = mome_para*prev_update_m + lr * grad_m\r\n",
        "    dt_m = mome_para*prev_update_dt_m + (1 - mome_para) * (grad_m - prev_grad_m)\r\n",
        "\r\n",
        "    vb = mome_para*prev_update_b + lr * grad_b\r\n",
        "    dt_b = mome_para*prev_update_dt_b + (1 - mome_para)* (grad_b - prev_grad_b)\r\n",
        "\r\n",
        "    prev_grad_m = grad_m\r\n",
        "    prev_gard_b = grad_b\r\n",
        "\r\n",
        "    m = m - vm - Kd*dt_m\r\n",
        "    b = b - vb - Kd*dt_b\r\n",
        "\r\n",
        "    prev_update_m = vm\r\n",
        "    prev_update_dt_m = dt_m\r\n",
        "\r\n",
        "    prev_update_b = vb\r\n",
        "    prev_update_dt_b = dt_b\r\n",
        "        \r\n",
        "    log.append((m, b))\r\n",
        "    mse.append(mean_squared_error(y, (m*X + b)))  \r\n",
        "\r\n",
        "  return m, b, log, mse\r\n",
        " "
      ],
      "execution_count": 315,
      "outputs": []
    },
    {
      "cell_type": "markdown",
      "metadata": {
        "id": "fgOmcN9sEgMY"
      },
      "source": [
        "#APID"
      ]
    },
    {
      "cell_type": "code",
      "metadata": {
        "id": "oRI8Wbh9EehV"
      },
      "source": [
        "def APID(X, y, lr=0.05, epoch=10, Kd=0.9, eps = 1e-8):\r\n",
        "\r\n",
        "  #Kd = 0.25*lr + 0.5 + (1 + (16/5)* (3.14)**2) / lr #Calculating the hyperparameter Kd\r\n",
        "\r\n",
        "  m, b = 0.5, 0.5 # parameters\r\n",
        "  log, mse = [], [] # lists to store learning process\r\n",
        "  N = len(X) # number of samples\r\n",
        "  \r\n",
        "  gamma = 0.9\r\n",
        "\r\n",
        "  vt_m, dt_m, prev_vt_m, prev_dt_m, mt_m, prev_mt_m = 0,0,0,0,0,0\r\n",
        "  vt_b, dt_b, prev_vt_b, prev_dt_b, mt_b, prev_mt_b = 0,0,0,0,0,0\r\n",
        "  grad_m, grad_b, prev_grad_m, prev_grad_b= 0,0,0,0\r\n",
        "\r\n",
        "\r\n",
        "  prev_b = 0\r\n",
        "  prev_m = 0\r\n",
        "    \r\n",
        "  for _ in range(epoch):\r\n",
        "    f = y - (m*X + b)\r\n",
        "\r\n",
        "    grad_m = (-2 * (X*f).sum() / N)\r\n",
        "    grad_b = (-2 * f.sum() / N)\r\n",
        "\r\n",
        "    mt_m = prev_mt_m + (grad_m**2)\r\n",
        "    vt_m = gamma*prev_vt_m + (lr*grad_m)/np.sqrt(mt_m) + eps\r\n",
        "    dt_m = gamma*prev_dt_m + (1-gamma)*(grad_m - prev_grad_m)\r\n",
        "\r\n",
        "    prev_mt_m = mt_m\r\n",
        "    prev_vt_m = vt_m\r\n",
        "    prev_dt_m = dt_m\r\n",
        "\r\n",
        "    mt_b = prev_mt_b + (grad_b**2)\r\n",
        "    vt_b = gamma*prev_vt_b + (lr*grad_b)/np.sqrt(mt_b) + eps\r\n",
        "    dt_b = gamma*prev_dt_b + (1-gamma)*(grad_b - prev_grad_b)\r\n",
        "\r\n",
        "    prev_mt_b = mt_b\r\n",
        "    prev_vt_b = vt_b\r\n",
        "    prev_dt_b = dt_b\r\n",
        "\r\n",
        "    prev_grad_m = grad_m\r\n",
        "    prev_gard_b = grad_b\r\n",
        "\r\n",
        "    prev_m = m\r\n",
        "    prev_b = b\r\n",
        "\r\n",
        "    m = m - vt_m - Kd*dt_m\r\n",
        "    b = b - vt_b - Kd*dt_b\r\n",
        "        \r\n",
        "    log.append((m, b))\r\n",
        "    mse.append(mean_squared_error(y, (m*X + b)))  \r\n",
        "\r\n",
        "  return m, b, log, mse"
      ],
      "execution_count": 316,
      "outputs": []
    },
    {
      "cell_type": "markdown",
      "metadata": {
        "id": "TuVbWs6qElS9"
      },
      "source": [
        "#PAPID"
      ]
    },
    {
      "cell_type": "code",
      "metadata": {
        "id": "aPn9Pip4EkKm"
      },
      "source": [
        "def PAPID(X, y, lr=0.05, epoch=10, Kd=0.9, p=1/4, eps = 1e-8):\r\n",
        "\r\n",
        "  #Kd = 0.25*lr + 0.5 + (1 + (16/5)* (3.14)**2) / lr #Calculating the hyperparameter Kd\r\n",
        "\r\n",
        "  m, b = 0.5, 0.5 # parameters\r\n",
        "  log, mse = [], [] # lists to store learning process\r\n",
        "  N = len(X) # number of samples\r\n",
        "  \r\n",
        "  gamma = 0.9\r\n",
        "\r\n",
        "  vt_m, dt_m, prev_vt_m, prev_dt_m, mt_m, prev_mt_m = 0,0,0,0,0,0\r\n",
        "  vt_b, dt_b, prev_vt_b, prev_dt_b, mt_b, prev_mt_b = 0,0,0,0,0,0\r\n",
        "  grad_m, grad_b, prev_grad_m, prev_grad_b= 0,0,0,0\r\n",
        "\r\n",
        "\r\n",
        "  prev_b = 0\r\n",
        "  prev_m = 0\r\n",
        "    \r\n",
        "  for _ in range(epoch):\r\n",
        "    f = y - (m*X + b)\r\n",
        "\r\n",
        "    grad_m = (-2 * (X*f).sum() / N)\r\n",
        "    grad_b = (-2 * f.sum() / N)\r\n",
        "\r\n",
        "    mt_m = prev_mt_m + (grad_m**2)\r\n",
        "    vt_m = gamma*prev_vt_m + (lr*grad_m)/(mt_m + eps)**p\r\n",
        "    dt_m = gamma*prev_dt_m + (1-gamma)*(grad_m - prev_grad_m)\r\n",
        "\r\n",
        "    prev_mt_m = mt_m\r\n",
        "    prev_vt_m = vt_m\r\n",
        "    prev_dt_m = dt_m\r\n",
        "\r\n",
        "    mt_b = prev_mt_b + (grad_b**2)\r\n",
        "    vt_b = gamma*prev_vt_b + (lr*grad_b)/(mt_b + eps)**p\r\n",
        "    dt_b = gamma*prev_dt_b + (1-gamma)*(grad_b - prev_grad_b)\r\n",
        "\r\n",
        "    prev_mt_b = mt_b\r\n",
        "    prev_vt_b = vt_b\r\n",
        "    prev_dt_b = dt_b\r\n",
        "\r\n",
        "    prev_grad_m = grad_m\r\n",
        "    prev_gard_b = grad_b\r\n",
        "\r\n",
        "    prev_m = m\r\n",
        "    prev_b = b\r\n",
        "\r\n",
        "    m = m - vt_m - Kd*dt_m\r\n",
        "    b = b - vt_b - Kd*dt_b\r\n",
        "        \r\n",
        "    log.append((m, b))\r\n",
        "    mse.append(mean_squared_error(y, (m*X + b)))  \r\n",
        "\r\n",
        "  return m, b, log, mse"
      ],
      "execution_count": 317,
      "outputs": []
    },
    {
      "cell_type": "markdown",
      "metadata": {
        "id": "GWLvEBIAQTmm"
      },
      "source": [
        "#PID-YOGI"
      ]
    },
    {
      "cell_type": "code",
      "metadata": {
        "id": "XQRyZ9lUQS47"
      },
      "source": [
        "def YogiPid(X, y, lr=0.05, epoch=10, eps = 1e-3, Kd=10, p=1/4):\r\n",
        "    \r\n",
        "    m, b = 0.5, 0.5 # parameters\r\n",
        "    log, mse = [], [] # lists to store learning process\r\n",
        "    N = len(X) # number of samples\r\n",
        " \r\n",
        "    vm,vb =0,0\r\n",
        "\r\n",
        "    \r\n",
        "    beta1, beta2 = 0.9, 0.999\r\n",
        "    mmt,mvt,bmt, bvt=0,0,0,0\r\n",
        "    mmt_hat, mvt_hat, bmt_hat, bvt_hat = 0,0,0,0\r\n",
        "    prev_dm, prev_db =0,0\r\n",
        "    prev_dt_m, prev_dt_b=0,0\r\n",
        "\r\n",
        "    gamma=0.9\r\n",
        "\r\n",
        "    for i in range(epoch):\r\n",
        "      dm, db =0,0\r\n",
        "\r\n",
        "      f = y - (m*X + b)\r\n",
        "      dm += lr * (-2 * (X*f).sum() / N)\r\n",
        "      db +=  lr * (-2 * f.sum() / N)\r\n",
        "\r\n",
        "      mmt = beta1*mmt + (1 - beta1) * dm\r\n",
        "      mvt = beta2*mvt + (1 - beta2) * np.sign(int(dm - prev_dm))* (dm**2)\r\n",
        "      dt_m = gamma*prev_dt_m + (1 - gamma) * (dm - prev_dm)\r\n",
        "\r\n",
        "      bmt = beta1*bmt + (1 - beta1) * db\r\n",
        "      bvt = beta2*bvt + (1 - beta2) * np.sign(int(dm - prev_db)) * (db**2)\r\n",
        "      dt_b = gamma*prev_dt_b + (1 - gamma) * (dm - prev_db)\r\n",
        "\r\n",
        "      mmt_hat = mmt/(1- beta1**(i+1))\r\n",
        "      mvt_hat = mvt/(1- beta2**(i+1))\r\n",
        "\r\n",
        "      bmt_hat = bmt/(1- beta1**(i+1))\r\n",
        "      bvt_hat = bvt/(1-beta2**(i+1))\r\n",
        "\r\n",
        "      prev_dt_m = dt_m\r\n",
        "      prev_dt_b = dt_b\r\n",
        "\r\n",
        "      prev_dm = dm\r\n",
        "      prev_db = db\r\n",
        "\r\n",
        "      m = m - (lr*mmt_hat)/((mvt_hat)**p + eps) - Kd*dt_m\r\n",
        "      b = b - (lr*bmt_hat)/((bvt_hat)**p + eps) - Kd*dt_b\r\n",
        "\r\n",
        "      log.append((m, b))\r\n",
        "      mse.append(mean_squared_error(y, (m*X + b)))   \r\n",
        "\r\n",
        "    return m, b, log, mse\r\n",
        "    "
      ],
      "execution_count": 361,
      "outputs": []
    },
    {
      "cell_type": "code",
      "metadata": {
        "colab": {
          "base_uri": "https://localhost:8080/"
        },
        "id": "zFckoD345T1s",
        "outputId": "19ce2302-eee0-427a-c6c9-92b7febe220a"
      },
      "source": [
        "m, b, log, mse_adam = Adam(x,y, lr=0.01, epoch=20,eps = 1e-8)\r\n",
        "y_pred = m*x + b\r\n",
        "print(\"MSE:\",mean_squared_error(y, y_pred))"
      ],
      "execution_count": 319,
      "outputs": [
        {
          "output_type": "stream",
          "text": [
            "MSE: 0.08591928677102234\n"
          ],
          "name": "stdout"
        }
      ]
    },
    {
      "cell_type": "code",
      "metadata": {
        "colab": {
          "base_uri": "https://localhost:8080/"
        },
        "id": "H87OChYd7kxa",
        "outputId": "6966eefc-dcff-429a-def9-981e2668e43a"
      },
      "source": [
        "m, b, log, mse_yogi = Yogi(x,y, lr=0.01, epoch=20,eps = 1e-3)\r\n",
        "y_pred = m*x + b\r\n",
        "print(\"MSE:\",mean_squared_error(y, y_pred))"
      ],
      "execution_count": 320,
      "outputs": [
        {
          "output_type": "stream",
          "text": [
            "MSE: 0.0656754330981919\n"
          ],
          "name": "stdout"
        }
      ]
    },
    {
      "cell_type": "code",
      "metadata": {
        "colab": {
          "base_uri": "https://localhost:8080/"
        },
        "id": "E1UThBJeE3Ul",
        "outputId": "b4970769-1ce1-43b9-fcea-1694e6c4d3c1"
      },
      "source": [
        "m, b, log, mse_pid = PID_Otimizer(x, y, 0.01, 100, 10)\r\n",
        "y_pred = m*x + b\r\n",
        "print(\"MSE:\",mean_squared_error(y, y_pred))"
      ],
      "execution_count": 321,
      "outputs": [
        {
          "output_type": "stream",
          "text": [
            "MSE: 0.06009328422225369\n"
          ],
          "name": "stdout"
        }
      ]
    },
    {
      "cell_type": "code",
      "metadata": {
        "colab": {
          "base_uri": "https://localhost:8080/"
        },
        "id": "dx7H_OoUFHI1",
        "outputId": "861ca191-3a78-4ef0-c4b9-d9fa03bc34e5"
      },
      "source": [
        "m, b, log, mse_apid = APID(x, y, 0.01, 20, 10, 1e-8)\r\n",
        "y_pred = m*x + b\r\n",
        "print(\"MSE:\",mean_squared_error(y, y_pred))"
      ],
      "execution_count": 322,
      "outputs": [
        {
          "output_type": "stream",
          "text": [
            "MSE: 0.060084421144719055\n"
          ],
          "name": "stdout"
        }
      ]
    },
    {
      "cell_type": "code",
      "metadata": {
        "colab": {
          "base_uri": "https://localhost:8080/"
        },
        "id": "GNpNb9A3FXhO",
        "outputId": "139b2193-a55c-4848-81c4-e6ef99e5b967"
      },
      "source": [
        "m, b, log, mse_papid = PAPID(x, y, 0.01, 20, 10, 1/16, 1e-8)\r\n",
        "y_pred = m*x + b\r\n",
        "print(\"MSE:\",mean_squared_error(y, y_pred))"
      ],
      "execution_count": 323,
      "outputs": [
        {
          "output_type": "stream",
          "text": [
            "MSE: 0.05988595519876111\n"
          ],
          "name": "stdout"
        }
      ]
    },
    {
      "cell_type": "code",
      "metadata": {
        "colab": {
          "base_uri": "https://localhost:8080/"
        },
        "id": "krFeVcGpR11W",
        "outputId": "ec96ddbc-201f-47e1-8c1c-9d64f1ec3152"
      },
      "source": [
        "m, b, log, mse_yogipid = YogiPid(x,y, 0.01, 20, 1e-3, 20, 1/16)\r\n",
        "y_pred = m*x + b\r\n",
        "print(\"MSE:\",mean_squared_error(y, y_pred))"
      ],
      "execution_count": 365,
      "outputs": [
        {
          "output_type": "stream",
          "text": [
            "MSE: 0.06349822007345517\n"
          ],
          "name": "stdout"
        }
      ]
    },
    {
      "cell_type": "code",
      "metadata": {
        "colab": {
          "base_uri": "https://localhost:8080/",
          "height": 691
        },
        "id": "dm_aLHX33BfK",
        "outputId": "ad8b2475-5948-43e4-b7c8-f5cd3ecd505b"
      },
      "source": [
        "plt.figure(figsize=(10,5))\r\n",
        "plt.rcParams['figure.dpi'] = 227\r\n",
        "#plt.plot(range(len(mse_pid)), mse_pid, label='PID', marker='|')\r\n",
        "plt.plot(range(len(mse_apid)), mse_apid, label='APID', marker='1')\r\n",
        "plt.plot(range(len(mse_adam)), mse_adam, label='Adam', marker='*')\r\n",
        "plt.plot(range(len(mse_yogi)), mse_yogi, label='Yogi', marker= '^')\r\n",
        "#plt.plot(range(len(mse_papid)), mse_papid, label='Papid', marker='.')\r\n",
        "plt.plot(range(len(mse_yogipid)), mse_yogipid, label='YogiPid', marker= 'v')\r\n",
        "\r\n",
        "\r\n",
        "\r\n",
        "\r\n",
        "\r\n",
        "\r\n",
        "\r\n",
        "\r\n",
        "plt.title('#Adam Vs #YogiPid', fontSize=14)\r\n",
        "plt.xlabel('#Epochs')\r\n",
        "plt.ylabel('MSE')\r\n",
        "plt.legend()\r\n",
        "plt.show()"
      ],
      "execution_count": 325,
      "outputs": [
        {
          "output_type": "display_data",
          "data": {
            "image/png": "[encoded data removed]",
            "text/plain": [
              "<Figure size 2270x1135 with 1 Axes>"
            ]
          },
          "metadata": {
            "tags": [],
            "needs_background": "light"
          }
        }
      ]
    },
    {
      "cell_type": "markdown",
      "metadata": {
        "id": "SCxts-VsB7k2"
      },
      "source": [
        "#Speed Test"
      ]
    },
    {
      "cell_type": "code",
      "metadata": {
        "id": "nZhhGzOjB85Z"
      },
      "source": [
        "X1=x\r\n",
        "X1 = np.concatenate((X1,X1,X1,X1,X1,X1,X1,X1,X1,X1,X1,X1,X1,X1,X1,X1,X1))\r\n",
        "y1 = np.concatenate((y,y,y,y,y,y,y,y,y,y,y,y,y,y,y,y,y))"
      ],
      "execution_count": 326,
      "outputs": []
    },
    {
      "cell_type": "code",
      "metadata": {
        "colab": {
          "base_uri": "https://localhost:8080/"
        },
        "id": "3ZdNpVehCBsV",
        "outputId": "f6de7a4a-f130-4fbf-cf08-5e7553a4b786"
      },
      "source": [
        "%%timeit \r\n",
        "Adam(X1, y1, lr=0.01, epoch=20,eps = 1e-3)"
      ],
      "execution_count": 327,
      "outputs": [
        {
          "output_type": "stream",
          "text": [
            "10 loops, best of 5: 77 ms per loop\n"
          ],
          "name": "stdout"
        }
      ]
    },
    {
      "cell_type": "code",
      "metadata": {
        "colab": {
          "base_uri": "https://localhost:8080/"
        },
        "id": "4xwGbo-uCrYj",
        "outputId": "0c821f46-7cff-420c-d3a6-179aa3b9bd8a"
      },
      "source": [
        "%%timeit \r\n",
        "Yogi(X1, y1, lr=0.01, epoch=20, eps = 1e-3)"
      ],
      "execution_count": 328,
      "outputs": [
        {
          "output_type": "stream",
          "text": [
            "10 loops, best of 5: 76.8 ms per loop\n"
          ],
          "name": "stdout"
        }
      ]
    },
    {
      "cell_type": "code",
      "metadata": {
        "colab": {
          "base_uri": "https://localhost:8080/"
        },
        "id": "x7Ze6nYpCJSA",
        "outputId": "a52703f4-ff4d-4af4-f3ec-9e8f4dbe58b0"
      },
      "source": [
        "%%timeit\r\n",
        "PID_Otimizer(X1, y1, 0.01, 20, 10)"
      ],
      "execution_count": 329,
      "outputs": [
        {
          "output_type": "stream",
          "text": [
            "10 loops, best of 5: 77.1 ms per loop\n"
          ],
          "name": "stdout"
        }
      ]
    },
    {
      "cell_type": "code",
      "metadata": {
        "colab": {
          "base_uri": "https://localhost:8080/"
        },
        "id": "4tiyfAXHHOq4",
        "outputId": "d2cacd72-c355-485f-f97c-ea16512fd8df"
      },
      "source": [
        "%%timeit\r\n",
        "APID(X1, y1, 0.01, 20, 10, 1e-8)"
      ],
      "execution_count": 330,
      "outputs": [
        {
          "output_type": "stream",
          "text": [
            "10 loops, best of 5: 77 ms per loop\n"
          ],
          "name": "stdout"
        }
      ]
    },
    {
      "cell_type": "code",
      "metadata": {
        "colab": {
          "base_uri": "https://localhost:8080/"
        },
        "id": "WuoZ-JFJHRWn",
        "outputId": "4d9447c0-e141-4c12-8cac-28bd64580b06"
      },
      "source": [
        "%%timeit\r\n",
        "PAPID(X1, y1, 0.01, 20, 10, 1/16, 1e-8)"
      ],
      "execution_count": 331,
      "outputs": [
        {
          "output_type": "stream",
          "text": [
            "10 loops, best of 5: 78.4 ms per loop\n"
          ],
          "name": "stdout"
        }
      ]
    },
    {
      "cell_type": "code",
      "metadata": {
        "colab": {
          "base_uri": "https://localhost:8080/"
        },
        "id": "yjUwz6rXSu2j",
        "outputId": "3608aae4-bb42-43a1-f446-5155710fd2c0"
      },
      "source": [
        "%%timeit\r\n",
        "YogiPid(X1,y1, 0.01, 20, 1e-3, 20)"
      ],
      "execution_count": 332,
      "outputs": [
        {
          "output_type": "stream",
          "text": [
            "10 loops, best of 5: 78.2 ms per loop\n"
          ],
          "name": "stdout"
        }
      ]
    }
  ]
}