{
  "nbformat": 4,
  "nbformat_minor": 0,
  "metadata": {
    "colab": {
      "name": "LPID_vs_PID.ipynb",
      "provenance": [],
      "authorship_tag": "ABX9TyPXUtPEqz/M6PsrQ8bDSopQ",
      "include_colab_link": true
    },
    "kernelspec": {
      "name": "python3",
      "display_name": "Python 3"
    }
  },
  "cells": [
    {
      "cell_type": "markdown",
      "metadata": {
        "id": "view-in-github",
        "colab_type": "text"
      },
      "source": [
        "<a href=\"https://colab.research.google.com/github/Saurav-Raghaw/Optimization/blob/main/LPID_vs_PID.ipynb\" target=\"_parent\"><img src=\"https://colab.research.google.com/assets/colab-badge.svg\" alt=\"Open In Colab\"/></a>"
      ]
    },
    {
      "cell_type": "code",
      "metadata": {
        "id": "R4IEX0pbgFi8"
      },
      "source": [
        "import math\r\n",
        "import matplotlib.pyplot as plt\r\n",
        "from mpl_toolkits.mplot3d import Axes3D\r\n",
        "from scipy import stats\r\n",
        "import numpy as np"
      ],
      "execution_count": 1,
      "outputs": []
    },
    {
      "cell_type": "code",
      "metadata": {
        "id": "XCALyuqbuCij"
      },
      "source": [
        "def func(x1, x2):\r\n",
        "  return 0.1*x1**2 + 2*x2**2"
      ],
      "execution_count": 2,
      "outputs": []
    },
    {
      "cell_type": "code",
      "metadata": {
        "id": "uhN2M4J-uGeT"
      },
      "source": [
        "def grad_func_x1(x1):\r\n",
        "  return 0.2*x1"
      ],
      "execution_count": 3,
      "outputs": []
    },
    {
      "cell_type": "code",
      "metadata": {
        "id": "R7JGXbYQuMob"
      },
      "source": [
        "def grad_func_x2(x2):\r\n",
        "  return 4*x2"
      ],
      "execution_count": 4,
      "outputs": []
    },
    {
      "cell_type": "code",
      "metadata": {
        "id": "cTjZgdznvT0X"
      },
      "source": [
        "def PID(lr=0.05, Kd=0.9):\r\n",
        "  x1, x2 = -10, -10 #parameters\r\n",
        "  gamma = 0.9\t\r\n",
        "\r\n",
        "  log = [] # lists to store learning process\r\n",
        "\r\n",
        "  x1_prev,x2_prev = x1, x2\r\n",
        "  grad_x1, grad_x2 = 0,0\r\n",
        "  mt_x1, dt_x1, mt_x2, dt_x2 = 0,0,0,0\r\n",
        "\r\n",
        "  prev_grad_x1, prev_grad_x2 = 0,0\r\n",
        "  prev_mt_x1, prev_mt_x2, prev_dt_x1, prev_dt_x2 =0,0,0,0\r\n",
        "\r\n",
        "  t=0\r\n",
        "\r\n",
        "  while(1):\r\n",
        "    t=t+1\r\n",
        "\r\n",
        "    grad_x1 = grad_func_x1(x1)\r\n",
        "    grad_x2 = grad_func_x2(x2)\r\n",
        "\r\n",
        "    mt_x1 = gamma*prev_mt_x1 + lr*grad_x1\r\n",
        "    dt_x1 = gamma*prev_dt_x1 + (1-gamma)*(grad_x1 - prev_grad_x1)\r\n",
        "\r\n",
        "    prev_mt_x1 = mt_x1\r\n",
        "    prev_dt_x1 = dt_x1\r\n",
        "    prev_grad_x1 = grad_x1\r\n",
        "\r\n",
        "    mt_x2 = gamma*prev_mt_x2 + lr*grad_x2\r\n",
        "    dt_x2 = gamma*prev_dt_x2 + (1-gamma)*(grad_x2 - prev_grad_x2)\r\n",
        "\r\n",
        "    prev_mt_x2 = mt_x2\r\n",
        "    prev_dt_x2 = dt_x2\r\n",
        "    prev_grad_x2 = grad_x2\r\n",
        "\r\n",
        "    log.append((x1,x2))\r\n",
        "\r\n",
        "    x1_prev = x1\r\n",
        "    x2_prev = x2\r\n",
        "\r\n",
        "    x1 = x1 - mt_x1 - Kd*dt_x1\r\n",
        "    x2 = x2 - mt_x2 - Kd*dt_x2\r\n",
        "\r\n",
        "    if(x1_prev == x1 and x2_prev == x2):\r\n",
        "      break\r\n",
        "\r\n",
        "  return x1, x2, log,t"
      ],
      "execution_count": 5,
      "outputs": []
    },
    {
      "cell_type": "code",
      "metadata": {
        "id": "GxkKA8W0veTb"
      },
      "source": [
        "def LPID(lr=0.05, Kd=0.9):\r\n",
        "  x1, x2 = -10, -10 # parameters\r\n",
        "  log = []  #list to store the value of x1 and x2 i.e learning \r\n",
        "\r\n",
        "  gamma =0.9 # momentum parameter\r\n",
        "  eps = 1e-8\r\n",
        "\r\n",
        "  prev_x1, prev_x2 = x1, x2\r\n",
        "  grad_x1, grad_x2 = 0,0\r\n",
        "  vt_x1, dt_x1, vt_x2, dt_x2 = 0,0,0,0\r\n",
        "\r\n",
        "  prev_grad_x1, prev_grad_x2 = 0,0\r\n",
        "  prev_vt_x1, prev_vt_x2, prev_dt_x1, prev_dt_x2 =0,0,0,0\r\n",
        "\r\n",
        "  x1_look_ahead, x2_look_ahead = 0,0\r\n",
        "  prev_x1_look_ahead, prev_x2_look_ahead = 0,0\r\n",
        "\r\n",
        "  t = 0\r\n",
        "\r\n",
        "  while(1):\r\n",
        "    t+=1\r\n",
        "\r\n",
        "    x1_look_ahead = x1 - gamma*prev_vt_x1\r\n",
        "    x2_look_ahead = x2 - gamma*prev_vt_x2\r\n",
        "\r\n",
        "    grad_x1 = grad_func_x1(x1_look_ahead)\r\n",
        "    grad_x2 = grad_func_x2(x2_look_ahead)\r\n",
        "\r\n",
        "    vt_x1 = gamma*prev_vt_x1 + (lr*grad_x1)\r\n",
        "    vt_x2 = gamma*prev_vt_x2 + (lr*grad_x2)\r\n",
        "\r\n",
        "    dt_x1 = gamma*prev_dt_x1 + (1-gamma)*(x1_look_ahead - prev_x1_look_ahead)\r\n",
        "    dt_x2 = gamma*prev_dt_x2 + (1-gamma)*(x2_look_ahead - prev_x2_look_ahead)\r\n",
        "\r\n",
        "    prev_grad_x1 = grad_x1\r\n",
        "    prev_grad_x2 = grad_x2\r\n",
        "\r\n",
        "    prev_vt_x1 = vt_x1\r\n",
        "    prev_vt_x2 = vt_x2\r\n",
        "\r\n",
        "    prev_x1_look_ahead = x1_look_ahead\r\n",
        "    prev_x2_look_ahead = x2_look_ahead\r\n",
        "\r\n",
        "    prev_dt_x1 = dt_x1\r\n",
        "    prev_dt_x2 = dt_x2\r\n",
        "\r\n",
        "    prev_x1 = x1\r\n",
        "    prev_x2 = x2\r\n",
        "\r\n",
        "    log.append((x1, x2))\r\n",
        "\r\n",
        "    x1 = x1 - vt_x1 - Kd*dt_x1\r\n",
        "    x2 = x2 - vt_x2 - Kd*dt_x2\r\n",
        "\r\n",
        "    if(x1 == prev_x1 and x2 == prev_x2):\r\n",
        "      break\r\n",
        "\r\n",
        "  return x1, x2, log,t"
      ],
      "execution_count": 6,
      "outputs": []
    },
    {
      "cell_type": "code",
      "metadata": {
        "id": "CP33lPw-vj27"
      },
      "source": [
        "def Adaptive_PID_Ada(lr = 0.05, Kd = 0.9):\r\n",
        "  x1, x2 = -10, -10  #parametrs\r\n",
        "  log = []  #list to store the value of x1 and x2 i.e learning process\r\n",
        "\r\n",
        "  gamma =0.9 # momentum parameter\r\n",
        "  eps = 1e-8\r\n",
        "\r\n",
        "  x1_prev,x2_prev = x1, x2\r\n",
        "  grad_x1, grad_x2 = 0,0\r\n",
        "  mt_x1, dt_x1, mt_x2, dt_x2 = 0,0,0,0\r\n",
        "\r\n",
        "  prev_grad_x1, prev_grad_x2 = 0,0\r\n",
        "  prev_mt_x1, prev_mt_x2, prev_dt_x1, prev_dt_x2 =0,0,0,0\r\n",
        "\r\n",
        "  vt_x1, vt_x2, prev_vt_x1, prev_vt_x2 = 0,0,0,0  #Introducing for accumulating the magnitude of the gradient\r\n",
        "\r\n",
        "  t = 0\r\n",
        "\r\n",
        "  while(1):    #Until Convergence\r\n",
        "    t +=1\r\n",
        "\r\n",
        "    grad_x1 = grad_func_x1(x1)\r\n",
        "    grad_x2 = grad_func_x2(x2)\r\n",
        "\r\n",
        "    vt_x1 = prev_vt_x1 + grad_x1**2  #Accumulating the magnitude of the gradient w.r.t first parameters\r\n",
        "    mt_x1 = gamma*prev_mt_x1 + (lr*grad_x1)/math.sqrt(vt_x1 + eps)\r\n",
        "    dt_x1 = gamma*prev_dt_x1 + (1-gamma)*(grad_x1 - prev_grad_x1)\r\n",
        "\r\n",
        "    prev_grad_x1 = grad_x1\r\n",
        "    prev_vt_x1 = vt_x1\r\n",
        "    prev_mt_x1 = mt_x1\r\n",
        "    prev_dt_x1 = dt_x1\r\n",
        "\r\n",
        "    \r\n",
        "    vt_x2 = prev_vt_x2 + grad_x2**2  #Accumulating the magnitude of the gradient w.r.t second parameters\r\n",
        "    mt_x2 = gamma*prev_mt_x2 + (lr*grad_x2)/math.sqrt(vt_x2 + eps)\r\n",
        "    dt_x2 = gamma*prev_dt_x2 + (1-gamma)*(grad_x2 - prev_grad_x2)\r\n",
        "\r\n",
        "    prev_grad_x2 = grad_x2\r\n",
        "    prev_vt_x2 = vt_x2\r\n",
        "    prev_mt_x2 = mt_x2\r\n",
        "    prev_dt_x2 = dt_x2\r\n",
        "\r\n",
        "    prev_x1 = x1\r\n",
        "    prev_x2 = x2\r\n",
        "\r\n",
        "    log.append((x1, x2))\r\n",
        "\r\n",
        "    x1 = x1 - mt_x1 - Kd*dt_x1\r\n",
        "    x2 = x2 - mt_x2 - Kd*dt_x2\r\n",
        "\r\n",
        "    if(x1 == prev_x1 and x2 == prev_x2):\r\n",
        "      break\r\n",
        "\r\n",
        "  return x1, x2, log,t"
      ],
      "execution_count": 7,
      "outputs": []
    },
    {
      "cell_type": "code",
      "metadata": {
        "id": "4AlffSYWvqnf"
      },
      "source": [
        "x1 = np.linspace(-10.0, 10.0, 100)\r\n",
        "x2 = np.linspace(-10.0, 10.0, 100)\r\n",
        "X1, X2 = np.meshgrid(x1, x2)\r\n",
        "Y = costs1 = np.array([func(X1, X2) for X1, X2 in zip(X1, X2)])"
      ],
      "execution_count": 8,
      "outputs": []
    },
    {
      "cell_type": "code",
      "metadata": {
        "colab": {
          "base_uri": "https://localhost:8080/"
        },
        "id": "l9XPYWX3zeV-",
        "outputId": "22615795-23bd-4d9c-e633-48cdbae315ce"
      },
      "source": [
        "%%time\r\n",
        "x1, x2, log1,t = PID(lr=0.01, Kd=4) #Kd = 4\r\n"
      ],
      "execution_count": 9,
      "outputs": [
        {
          "output_type": "stream",
          "text": [
            "CPU times: user 67.5 ms, sys: 10.3 ms, total: 77.8 ms\n",
            "Wall time: 81.4 ms\n"
          ],
          "name": "stdout"
        }
      ]
    },
    {
      "cell_type": "code",
      "metadata": {
        "colab": {
          "base_uri": "https://localhost:8080/"
        },
        "id": "IdS6hu9bzmny",
        "outputId": "cfc74baf-4493-45f1-ad4a-f4e64fcbb93b"
      },
      "source": [
        "t"
      ],
      "execution_count": 10,
      "outputs": [
        {
          "output_type": "execute_result",
          "data": {
            "text/plain": [
              "62654"
            ]
          },
          "metadata": {
            "tags": []
          },
          "execution_count": 10
        }
      ]
    },
    {
      "cell_type": "code",
      "metadata": {
        "colab": {
          "base_uri": "https://localhost:8080/"
        },
        "id": "NSSvDqk2zoxR",
        "outputId": "72e2b904-7671-4753-8aee-6ca2aeff8c8a"
      },
      "source": [
        "%%time\r\n",
        "x1, x2, log2,t = Adaptive_PID_Ada(lr=0.01, Kd=4) #Kd = 4\r\n"
      ],
      "execution_count": 11,
      "outputs": [
        {
          "output_type": "stream",
          "text": [
            "CPU times: user 5.59 s, sys: 178 ms, total: 5.77 s\n",
            "Wall time: 5.8 s\n"
          ],
          "name": "stdout"
        }
      ]
    },
    {
      "cell_type": "code",
      "metadata": {
        "colab": {
          "base_uri": "https://localhost:8080/"
        },
        "id": "YLBSKGKYzs1r",
        "outputId": "85495176-963b-42a8-b51a-3d3898edc772"
      },
      "source": [
        "t"
      ],
      "execution_count": 12,
      "outputs": [
        {
          "output_type": "execute_result",
          "data": {
            "text/plain": [
              "3496319"
            ]
          },
          "metadata": {
            "tags": []
          },
          "execution_count": 12
        }
      ]
    },
    {
      "cell_type": "code",
      "metadata": {
        "colab": {
          "base_uri": "https://localhost:8080/"
        },
        "id": "0vUqpwh3zusy",
        "outputId": "d370c4d0-11c1-4c41-87e9-1efe604cf301"
      },
      "source": [
        "%%time\r\n",
        "x1, x2, log3,t = LPID(lr=0.01, Kd=4) #Kd = 4\r\n"
      ],
      "execution_count": 13,
      "outputs": [
        {
          "output_type": "stream",
          "text": [
            "CPU times: user 230 ms, sys: 4.8 ms, total: 235 ms\n",
            "Wall time: 236 ms\n"
          ],
          "name": "stdout"
        }
      ]
    },
    {
      "cell_type": "code",
      "metadata": {
        "colab": {
          "base_uri": "https://localhost:8080/"
        },
        "id": "01o4Xq3dzzQ8",
        "outputId": "90777443-9662-4ed9-b62b-abebd45ed9be"
      },
      "source": [
        "t"
      ],
      "execution_count": 14,
      "outputs": [
        {
          "output_type": "execute_result",
          "data": {
            "text/plain": [
              "184182"
            ]
          },
          "metadata": {
            "tags": []
          },
          "execution_count": 14
        }
      ]
    },
    {
      "cell_type": "code",
      "metadata": {
        "colab": {
          "base_uri": "https://localhost:8080/",
          "height": 387
        },
        "id": "f7C_-_9u0WHa",
        "outputId": "3e9a5c57-5840-4ba0-9cc7-4e2bb52ed429"
      },
      "source": [
        "%%time\r\n",
        "x_val1 = [l[0] for l in log1]\r\n",
        "y_val1 = [l[1] for l in log1]\r\n",
        "\r\n",
        "x_val2 = [l[0] for l in log2]\r\n",
        "y_val2 = [l[1] for l in log2]\r\n",
        "\r\n",
        "x_val3 = [l[0] for l in log3]\r\n",
        "y_val3 = [l[1] for l in log3]\r\n",
        "\r\n",
        "\r\n",
        "plt.figure(figsize=(10,5))\r\n",
        "'''\r\n",
        "cp = plt.contour(X1, X2, Y, colors='black', linestyles='dashed', linewidths=1)\r\n",
        "plt.clabel(cp, inline=1, fontsize=10)\r\n",
        "cp = plt.contourf(X1, X2, Y, )\r\n",
        "'''\r\n",
        "\r\n",
        "\r\n",
        "cp = plt.contour(X1, X2, Y)\r\n",
        "plt.clabel(cp, inline=1, fontsize=10)\r\n",
        "\r\n",
        "\r\n",
        "plt.rcParams['figure.dpi'] = 227\r\n",
        "\r\n",
        "plt.title('#PID, APID and LPID', fontSize=14)\r\n",
        "plt.xlabel('x1')\r\n",
        "plt.ylabel('x2')\r\n",
        "\r\n",
        "plt.plot(x_val1,y_val1, label='PID:Kd=4,eta=0.01')\r\n",
        "plt.plot(x_val2,y_val2, label = 'APID: Kd=4,eta=0.01')\r\n",
        "plt.plot(x_val3,y_val3, label = 'LPID: Kd=4,eta=0.01')\r\n",
        "\r\n",
        "\r\n",
        "plt.legend()\r\n",
        "\r\n",
        "plt.show()"
      ],
      "execution_count": 15,
      "outputs": [
        {
          "output_type": "display_data",
          "data": {
            "image/png": "[encoded data removed]",
            "text/plain": [
              "<Figure size 720x360 with 1 Axes>"
            ]
          },
          "metadata": {
            "tags": [],
            "needs_background": "light"
          }
        },
        {
          "output_type": "stream",
          "text": [
            "CPU times: user 3.36 s, sys: 200 ms, total: 3.56 s\n",
            "Wall time: 3.5 s\n"
          ],
          "name": "stdout"
        }
      ]
    },
    {
      "cell_type": "code",
      "metadata": {
        "id": "fGK0lMr34nM3"
      },
      "source": [
        "%%time\r\n",
        "x1, x2, log1,t = PID(lr=0.01, Kd=0.5) #Kd = 4\r\n"
      ],
      "execution_count": null,
      "outputs": []
    },
    {
      "cell_type": "code",
      "metadata": {
        "id": "HA9mL4CW5xq_"
      },
      "source": [
        "t"
      ],
      "execution_count": null,
      "outputs": []
    },
    {
      "cell_type": "code",
      "metadata": {
        "id": "FM7QC6DP4wN6"
      },
      "source": [
        "%%time\r\n",
        "x1, x2, log1,t = Adaptive_PID_Ada(lr=0.01, Kd=0.5) #Kd = 4\r\n"
      ],
      "execution_count": null,
      "outputs": []
    },
    {
      "cell_type": "code",
      "metadata": {
        "id": "eGd6sYn25wvS"
      },
      "source": [
        "t"
      ],
      "execution_count": null,
      "outputs": []
    },
    {
      "cell_type": "code",
      "metadata": {
        "id": "52WkCjqe4uLP"
      },
      "source": [
        "%%time\r\n",
        "x1, x2, log1,t = LPID(lr=0.01, Kd=17) #Kd = 4\r\n"
      ],
      "execution_count": null,
      "outputs": []
    },
    {
      "cell_type": "code",
      "metadata": {
        "id": "JF4dufvH5C_o"
      },
      "source": [
        "t"
      ],
      "execution_count": null,
      "outputs": []
    },
    {
      "cell_type": "code",
      "metadata": {
        "id": "J5a-F2Dw5z79"
      },
      "source": [
        "%%time\r\n",
        "x_val1 = [l[0] for l in log1]\r\n",
        "y_val1 = [l[1] for l in log1]\r\n",
        "\r\n",
        "x_val2 = [l[0] for l in log2]\r\n",
        "y_val2 = [l[1] for l in log2]\r\n",
        "\r\n",
        "x_val3 = [l[0] for l in log3]\r\n",
        "y_val3 = [l[1] for l in log3]\r\n",
        "\r\n",
        "\r\n",
        "plt.figure(figsize=(10,5))\r\n",
        "'''\r\n",
        "cp = plt.contour(X1, X2, Y, colors='black', linestyles='dashed', linewidths=1)\r\n",
        "plt.clabel(cp, inline=1, fontsize=10)\r\n",
        "cp = plt.contourf(X1, X2, Y, )\r\n",
        "'''\r\n",
        "\r\n",
        "\r\n",
        "cp = plt.contour(X1, X2, Y)\r\n",
        "plt.clabel(cp, inline=1, fontsize=10)\r\n",
        "\r\n",
        "\r\n",
        "plt.rcParams['figure.dpi'] = 227\r\n",
        "\r\n",
        "plt.title('#PID, APID and LPID', fontSize=14)\r\n",
        "plt.xlabel('x1')\r\n",
        "plt.ylabel('x2')\r\n",
        "\r\n",
        "plt.plot(x_val1,y_val1, label='PID:Kd=0.9,eta=0.01')\r\n",
        "plt.plot(x_val2,y_val2, label = 'APID: Kd=0.9,eta=0.01')\r\n",
        "plt.plot(x_val3,y_val3, label = 'LPID: Kd=0.9,eta=0.01')\r\n",
        "\r\n",
        "\r\n",
        "plt.legend()\r\n",
        "\r\n",
        "plt.show()"
      ],
      "execution_count": null,
      "outputs": []
    }
  ]
}