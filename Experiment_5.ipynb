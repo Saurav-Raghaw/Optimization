{
  "nbformat": 4,
  "nbformat_minor": 0,
  "metadata": {
    "colab": {
      "name": "Experiment_5.ipynb",
      "provenance": [],
      "authorship_tag": "ABX9TyOD3m84+7iHTDXeZAVnC42G",
      "include_colab_link": true
    },
    "kernelspec": {
      "name": "python3",
      "display_name": "Python 3"
    },
    "accelerator": "TPU"
  },
  "cells": [
    {
      "cell_type": "markdown",
      "metadata": {
        "id": "view-in-github",
        "colab_type": "text"
      },
      "source": [
        "<a href=\"https://colab.research.google.com/github/Saurav-Raghaw/Optimization/blob/main/Experiment_5.ipynb\" target=\"_parent\"><img src=\"https://colab.research.google.com/assets/colab-badge.svg\" alt=\"Open In Colab\"/></a>"
      ]
    },
    {
      "cell_type": "markdown",
      "metadata": {
        "id": "ghsy0A4TRKPT"
      },
      "source": [
        "#PID and Adaptive PID - Adam"
      ]
    },
    {
      "cell_type": "code",
      "metadata": {
        "id": "gI177CG-O9bW"
      },
      "source": [
        "import math\r\n",
        "import matplotlib.pyplot as plt\r\n",
        "from mpl_toolkits.mplot3d import Axes3D\r\n",
        "from scipy import stats\r\n",
        "import numpy as np\r\n",
        "\r\n",
        "from decimal import Decimal, localcontext"
      ],
      "execution_count": 2,
      "outputs": []
    },
    {
      "cell_type": "code",
      "metadata": {
        "id": "AGNF_JqZm4Ic"
      },
      "source": [
        "def func(x1, x2):\r\n",
        "  return 0.1*x1**2 + 2*x2**2"
      ],
      "execution_count": 3,
      "outputs": []
    },
    {
      "cell_type": "code",
      "metadata": {
        "id": "HT_YuZpem8va"
      },
      "source": [
        "def grad_func_x1(x1):\r\n",
        "  return 0.2*x1"
      ],
      "execution_count": 4,
      "outputs": []
    },
    {
      "cell_type": "code",
      "metadata": {
        "id": "F3Mj3Ritm-6P"
      },
      "source": [
        "def grad_func_x2(x2):\r\n",
        "  return 4*x2"
      ],
      "execution_count": 5,
      "outputs": []
    },
    {
      "cell_type": "markdown",
      "metadata": {
        "id": "-QxylZ0UnEbp"
      },
      "source": [
        "#Adaptive PID-Adam"
      ]
    },
    {
      "cell_type": "code",
      "metadata": {
        "id": "VAKnlt8XnBkQ"
      },
      "source": [
        "def Adaptive_PID_ADAM(lr = 0.05, Kd = 0.9):\r\n",
        "  x1, x2 = -10, -10  #parametrs\r\n",
        "  log = []  #list to store the value of x1 and x2 i.e learning \r\n",
        "  \r\n",
        "  beta1, beta2 = 0.9, 0.9\r\n",
        "\r\n",
        "  gamma =0.9 # momentum parameter\r\n",
        "  eps = 1e-8\r\n",
        "\r\n",
        "  x1_prev,x2_prev = x1, x2\r\n",
        "  grad_x1, grad_x2 = 0,0\r\n",
        "  vt_x1, dt_x1, vt_x2, dt_x2 = 0,0,0,0\r\n",
        "\r\n",
        "  prev_grad_x1, prev_grad_x2 = 0,0\r\n",
        "  prev_vt_x1, prev_vt_x2, prev_dt_x1, prev_dt_x2 =0,0,0,0\r\n",
        "\r\n",
        "  fm_x1, fm_x2, prev_fm_x1, prev_fm_x2 = 0,0,0,0  #First Moments\r\n",
        "  sm_x1, sm_x2, prev_sm_x1, prev_sm_x2 = 0,0,0,0 #second moments\r\n",
        "\r\n",
        "  fm_x1_cap, sm_x1_cap, fm_x2_cap, sm_x2_cap = 0,0,0,0 #Taking for Bias Correction\r\n",
        "\r\n",
        "  y1, y2 =0,0\r\n",
        "\r\n",
        "  t = 0\r\n",
        "\r\n",
        "  while(1):    #Until Convergence\r\n",
        "    t +=1\r\n",
        "\r\n",
        "    grad_x1 = grad_func_x1(x1)\r\n",
        "    grad_x2 = grad_func_x2(x2)\r\n",
        "    \r\n",
        "    fm_x1 = beta1*prev_fm_x1 + (1-beta1)*grad_x1 #First Moments\r\n",
        "    sm_x1 = beta2*prev_sm_x1 +(1-beta2)*(grad_x1) #Second Moments\r\n",
        "    fm_x1_cap = fm_x1/(1 - beta1**t)\r\n",
        "    sm_x1_cap = sm_x1/(1 - beta2**t)\r\n",
        "\r\n",
        "    vt_x1 = gamma*prev_vt_x1 + (lr*sm_x1_cap)/math.sqrt(abs(fm_x1_cap) + eps)\r\n",
        "    dt_x1 = gamma*prev_dt_x1 + (1-gamma)*(fm_x1 - prev_fm_x1)\r\n",
        "    \r\n",
        "    prev_fm_x1 = fm_x1\r\n",
        "    prev_sm_x1 = sm_x1\r\n",
        "    prev_vt_x1 = vt_x1\r\n",
        "    prev_dt_x1 = dt_x1\r\n",
        "\r\n",
        "    fm_x2 = beta1*prev_fm_x2 + (1-beta1)*grad_x2 #First Moments\r\n",
        "    sm_x2 = beta2*prev_sm_x2 +(1-beta2)*(grad_x2) #Second Moments\r\n",
        "    fm_x2_cap = fm_x2/(1 - beta1**t)\r\n",
        "    sm_x2_cap = sm_x2/(1 - beta2**t)\r\n",
        "\r\n",
        "    vt_x2 = gamma*prev_vt_x2 + (lr*sm_x2_cap)/math.sqrt(abs(fm_x2_cap) + eps)\r\n",
        "    dt_x2 = gamma*prev_dt_x2 + (1-gamma)*(fm_x2 - prev_fm_x2)\r\n",
        "    \r\n",
        "    prev_fm_x2 = fm_x2\r\n",
        "    prev_sm_x2 = sm_x2\r\n",
        "    prev_vt_x2 = vt_x2\r\n",
        "    prev_dt_x2 = dt_x2\r\n",
        "\r\n",
        "\r\n",
        "\r\n",
        "    prev_x1 = x1\r\n",
        "    prev_x2 = x2\r\n",
        "    #print(x1, x2)\r\n",
        "\r\n",
        "    log.append((x1, x2))\r\n",
        "\r\n",
        "    x1 = x1 - vt_x1 - Kd*dt_x1\r\n",
        "    x2 = x2 - vt_x2 - Kd*dt_x2\r\n",
        "\r\n",
        "    if(x1 == prev_x1 and x2 == prev_x2):\r\n",
        "      break\r\n",
        "\r\n",
        "  return x1, x2, log"
      ],
      "execution_count": 6,
      "outputs": []
    },
    {
      "cell_type": "code",
      "metadata": {
        "id": "q_v1lVl7yH0p"
      },
      "source": [
        "x1, x2, log_1 = Adaptive_PID_ADAM(lr=0.01, Kd=4) #Kd = 4"
      ],
      "execution_count": null,
      "outputs": []
    },
    {
      "cell_type": "code",
      "metadata": {
        "id": "mVmuuG-ZslAD"
      },
      "source": [
        "%%time\r\n",
        "#x_val = [l[0] for l in log1]\r\n",
        "#y_val = [l[1] for l in log1]\r\n",
        "\r\n",
        "x_val_1 = [l[0] for l in log_1]\r\n",
        "y_val_1 = [l[1] for l in log_1]\r\n",
        "\r\n",
        "plt.figure(figsize=(20,6))\r\n",
        "plt.rcParams['figure.dpi'] = 227\r\n",
        "\r\n",
        "plt.title('#Comparision between Adagrad, PID and Adaptive PID', fontSize=14)\r\n",
        "plt.xlabel('x1')\r\n",
        "plt.ylabel('x2')\r\n",
        "\r\n",
        "#plt.plot(x_val,y_val, label='PID Kd=4')\r\n",
        "plt.plot(x_val_1,y_val_1, label='Adaptive PID Kd=4')\r\n",
        "\r\n",
        "plt.legend()\r\n",
        "\r\n",
        "plt.show()"
      ],
      "execution_count": null,
      "outputs": []
    },
    {
      "cell_type": "code",
      "metadata": {
        "id": "xO5Oiit55cB_"
      },
      "source": [
        "74 800 9484 7"
      ],
      "execution_count": null,
      "outputs": []
    }
  ]
}